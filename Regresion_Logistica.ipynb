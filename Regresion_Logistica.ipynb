{
  "nbformat": 4,
  "nbformat_minor": 0,
  "metadata": {
    "colab": {
      "name": "Regresion_Logistica.ipynb",
      "provenance": [],
      "collapsed_sections": [],
      "mount_file_id": "1SkDLedQ1CIzYT0GT-Wbfn_CuVP2n2g_D",
      "authorship_tag": "ABX9TyPWwdq0XgOv0VTuqYxbnPNG",
      "include_colab_link": true
    },
    "kernelspec": {
      "name": "python3",
      "display_name": "Python 3"
    }
  },
  "cells": [
    {
      "cell_type": "markdown",
      "metadata": {
        "id": "view-in-github",
        "colab_type": "text"
      },
      "source": [
        "<a href=\"https://colab.research.google.com/github/TSffer/Topicos-IA/blob/master/Regresion_Logistica.ipynb\" target=\"_parent\"><img src=\"https://colab.research.google.com/assets/colab-badge.svg\" alt=\"Open In Colab\"/></a>"
      ]
    },
    {
      "cell_type": "code",
      "metadata": {
        "id": "_kCJsPW8Y0PO",
        "colab_type": "code",
        "colab": {}
      },
      "source": [
        "from sklearn.model_selection import train_test_split\n",
        "import pandas as pd\n",
        "import numpy as np\n",
        "import matplotlib.pyplot as plt"
      ],
      "execution_count": 0,
      "outputs": []
    },
    {
      "cell_type": "code",
      "metadata": {
        "id": "b4F0sNMOZB2t",
        "colab_type": "code",
        "colab": {}
      },
      "source": [
        "def Leer_Datos(filename): \n",
        "    data = pd.read_csv(filename, sep=',', header=None).to_numpy()\n",
        "    return data\n",
        "\n",
        "def Normalizar_Datos(data):\n",
        "    meam_data = data.mean(axis=0)\n",
        "    std_data = data.std(axis=0)\n",
        "    normalization_t = data - meam_data\n",
        "    normalization_t = normalization_t / std_data\n",
        "    return normalization_t\n",
        "    "
      ],
      "execution_count": 0,
      "outputs": []
    },
    {
      "cell_type": "code",
      "metadata": {
        "id": "UF4LTYiyZDT_",
        "colab_type": "code",
        "colab": {}
      },
      "source": [
        "def sigmoid(z_):\n",
        "    return 1 / (1 + np.exp(-z_))\n",
        "\n",
        "def f_costo(theta_,  x_, y_ ):\n",
        "    m = x_.shape[0]\n",
        "    h_theta = np.dot(x_, theta_)\n",
        "    pred = sigmoid(h_theta)\n",
        "    result = -(np.multiply(y_, np.log(pred)) + np.multiply((1 - y_), np.log(1 - pred)))\n",
        "    result = (1/m) * np.sum(result)\n",
        "    return result\n",
        "\n",
        "def gradiente(x_, y_, theta_):\n",
        "    m = x_.shape[0]\n",
        "    h_theta = np.dot(x_, theta_)\n",
        "    a = sigmoid(h_theta)\n",
        "    dz = a - y_\n",
        "    dw = (1/m) * np.dot(x_.T, dz)\n",
        "    return dw\n",
        "    \n",
        "\n",
        "def gradiente_descendiente(x, y, alpha, theta_, it=10):\n",
        "    cost_h = np.zeros(it)\n",
        "    m = x.shape[0]\n",
        "    for i in range(it):    \n",
        "        dw =  gradiente(x, y, theta_)\n",
        "        cost_h[i] = f_costo(theta_, x, y)\n",
        "        theta_ = theta_ - alpha * dw \n",
        "        \n",
        "    return theta_, cost_h\n",
        "\n",
        "def accuracy(x_, y_, theta_):\n",
        "    z = np.dot(x_, theta_)\n",
        "    pr = sigmoid(z)\n",
        "    m = pr.shape[1]\n",
        "    pr = np.round_(pr,decimals=3)\n",
        "    pred = [] \n",
        "    index  = 0\n",
        "    y_ = list(y_[:,-1])\n",
        "    pr = list(pr[:,-1])\n",
        "\n",
        "    for i in range(len(pr)):\n",
        "        if (pr[i] > 0.5):\n",
        "            pred.append(1)\n",
        "        else:\n",
        "            pred.append(0)  \n",
        "\n",
        "    num_correct = 0\n",
        "    for i in range(len(pr)):\n",
        "        if(pred[i] == y_[i]):\n",
        "            num_correct += 1\n",
        "    #print(pred)\n",
        "    #print(y_)\n",
        "    return num_correct /len(pred)\n",
        "\n",
        "\n",
        "def predict(X, model):\n",
        "    W = model\n",
        "    z = np.matmul(X, W.T) \n",
        "    a = Yhat = sigmoid(z.T)\n",
        "    m = a.shape[1]\n",
        "    \n",
        "    for ai in np.matrix.tolist(a)[0]:\n",
        "        print(ai)\n",
        "        if ai >0.5:\n",
        "            print('We predict' , 1)\n",
        "        else:\n",
        "            print('We predict', 0)"
      ],
      "execution_count": 0,
      "outputs": []
    },
    {
      "cell_type": "code",
      "metadata": {
        "id": "0iLIKKXtMMoF",
        "colab_type": "code",
        "colab": {}
      },
      "source": [
        "def k_fols(data, k):\n",
        "    data_n = Normalizar_Datos(data[:,0:data.shape[1]-1])\n",
        "    print('Sub_matriz: ',data_n.shape)\n",
        "    y =  data[:,-1]    \n",
        "    print('Sin normalizar: ',data.shape)\n",
        "    \n",
        "    data = np.column_stack((data_n, y))\n",
        "\n",
        "    print('Con normalizar: ', data.shape)\n",
        "    clase_0 = np.count_nonzero( y == 0)\n",
        "    clase_1 = np.count_nonzero( y == 1)\n",
        "\n",
        "    #p_clase0 = (clase_0/sizedata) * 100\n",
        "    #p_clase1 = (clase_1/sizedata) * 100\n",
        "\n",
        "    div0 = int(clase_0/3)\n",
        "    div1 = int(clase_1/3)\n",
        "    print('clase 0: ', div0)\n",
        "    print('clase 1: ', div1)\n",
        "\n",
        "    class_1 = data[0:clase_1, :]\n",
        "    class_0 = data[clase_1:clase_1+clase_0, :]\n",
        "\n",
        "    np.random.shuffle(class_0)\n",
        "    np.random.shuffle(class_1)\n",
        "    \n",
        "    size_fold = int(data.shape[0] / k)\n",
        "    remainder_size_fold = int(data.shape[0] % k)\n",
        "    data = data[:data.shape[0] - remainder_size_fold, :]\n",
        "\n",
        "    k_fols = []\n",
        "    idx_row0 = 0\n",
        "    idx_row1 = 0\n",
        "    for i in range(k):\n",
        "        X0 = class_0[idx_row0:idx_row0+div0, :]\n",
        "        X1 = class_1[idx_row1:idx_row1+div1, :]\n",
        "        X = np.concatenate((X0, X1))\n",
        "        k_fols.append(X)\n",
        "        idx_row0 += div0\n",
        "        idx_row1 += div1\n",
        "    return k_fols, size_fold\n"
      ],
      "execution_count": 0,
      "outputs": []
    },
    {
      "cell_type": "code",
      "metadata": {
        "id": "tXpPS4OZSlK5",
        "colab_type": "code",
        "colab": {}
      },
      "source": [
        "def Crear_Entrenamiento_Prueba(k):\n",
        "    data = pd.read_csv('/content/drive/My Drive/ConjuntosRLog/diabetes.csv', sep='\\t')\n",
        "    data.sort_values(by = ['Outcome'], inplace = True ,ascending = False)\n",
        "    data = data.to_numpy()\n",
        "    k_f , siz = k_fols(data, k)\n",
        "\n",
        "    for i in range(k):\n",
        "        np.savetxt('/content/drive/My Drive/ConjuntosRLog/Diabetes_Data/fold_'+str(i)+'.csv', k_f[i], delimiter=',')\n",
        "    \n",
        "#Crear_Entrenamiento_Prueba(3)"
      ],
      "execution_count": 0,
      "outputs": []
    },
    {
      "cell_type": "code",
      "metadata": {
        "id": "73Q89kP6Q74a",
        "colab_type": "code",
        "outputId": "c3f9b37e-262f-4e5e-c51b-48572d890c52",
        "colab": {
          "base_uri": "https://localhost:8080/",
          "height": 391
        }
      },
      "source": [
        "# Experimento 1\n",
        "def Separar_X_y(data):\n",
        "    n = data.shape[1]\n",
        "    X = data[:, :n-1]\n",
        "    y = data[:, n-1:]\n",
        "    return X, y\n",
        "\n",
        "def EXP1(filename, dataname):\n",
        "    k_fols = []\n",
        "    for i in range(3):\n",
        "        X = Leer_Datos(filename +'/fold_'+str(i)+'.csv')\n",
        "        k_fols.append(X)\n",
        "    \n",
        "    apr = np.array([0.01, 0.05, 0.1, 0.2, 0.3, 0.4])\n",
        "    s = 0\n",
        "    sum_acc = 0\n",
        "    acc = np.zeros((7,6),float)\n",
        "    for it in range(500,4000,500):\n",
        "        for i in range(len(apr)):\n",
        "            for k in range(3):\n",
        "                data_train = np.concatenate((k_fols[(k+1)%3], k_fols[(k+2)%3]))\n",
        "                data_test = k_fols[k]\n",
        "                train_x, train_y = Separar_X_y(data_train)\n",
        "                test_x, test_y = Separar_X_y(data_test)\n",
        "                Theta = np.zeros((train_x.shape[1],1),float)\n",
        "                theta_GD , cost = gradiente_descendiente(train_x,train_y,apr[i], Theta, it)\n",
        "                sum_acc += accuracy(test_x, test_y, theta_GD)\n",
        "            acc[s,i] = sum_acc/3\n",
        "            sum_acc = 0.0\n",
        "        s = s + 1       \n",
        "    \n",
        "    print(\"Conjunto de Datos: \" + dataname)\n",
        "    fils = [\"iter: 500\", \"iter: 1000\", \"iter: 1500\", \"iter: 2000\", \"iter: 2500\", \"iter: 3000\", \"iter: 3500\"]\n",
        "    cols = [\"α: 0.01\", \"α: 0.05\", \"α: 0.1\", \"α: 0.2\", \"α: 0.3\", \"α: 0.4\"]\n",
        "    df = pd.DataFrame(acc, columns=cols, index=fils)\n",
        "\n",
        "    print(df)\n",
        "    print('\\n')\n",
        "\n",
        "EXP1('/content/drive/My Drive/ConjuntosRLog/Enfermedad_Cardiaca_Data','Enfermedad Cardiaca')\n",
        "EXP1('/content/drive/My Drive/ConjuntosRLog/Diabetes_Data', 'Diabetes')"
      ],
      "execution_count": 6,
      "outputs": [
        {
          "output_type": "stream",
          "text": [
            "Conjunto de Datos: Enfermedad Cardiaca\n",
            "             α: 0.01   α: 0.05    α: 0.1    α: 0.2    α: 0.3    α: 0.4\n",
            "iter: 500   0.834983  0.858086  0.858086  0.854785  0.854785  0.854785\n",
            "iter: 1000  0.834983  0.858086  0.854785  0.854785  0.854785  0.854785\n",
            "iter: 1500  0.844884  0.858086  0.854785  0.854785  0.854785  0.854785\n",
            "iter: 2000  0.854785  0.854785  0.854785  0.854785  0.854785  0.854785\n",
            "iter: 2500  0.858086  0.854785  0.854785  0.854785  0.854785  0.854785\n",
            "iter: 3000  0.858086  0.854785  0.854785  0.854785  0.854785  0.854785\n",
            "iter: 3500  0.858086  0.854785  0.854785  0.854785  0.854785  0.854785\n",
            "\n",
            "\n",
            "Conjunto de Datos: Diabetes\n",
            "             α: 0.01   α: 0.05    α: 0.1    α: 0.2    α: 0.3    α: 0.4\n",
            "iter: 500   0.733333  0.738562  0.739869  0.739869  0.739869  0.739869\n",
            "iter: 1000  0.742484  0.739869  0.739869  0.739869  0.739869  0.739869\n",
            "iter: 1500  0.739869  0.741176  0.739869  0.739869  0.739869  0.739869\n",
            "iter: 2000  0.738562  0.739869  0.739869  0.739869  0.739869  0.739869\n",
            "iter: 2500  0.738562  0.739869  0.739869  0.739869  0.739869  0.739869\n",
            "iter: 3000  0.737255  0.739869  0.739869  0.739869  0.739869  0.739869\n",
            "iter: 3500  0.737255  0.739869  0.739869  0.739869  0.739869  0.739869\n",
            "\n",
            "\n"
          ],
          "name": "stdout"
        }
      ]
    },
    {
      "cell_type": "code",
      "metadata": {
        "id": "uvZT2ItKRUjA",
        "colab_type": "code",
        "outputId": "61e41dec-222e-4665-e67c-7c4a4eed4e84",
        "colab": {
          "base_uri": "https://localhost:8080/",
          "height": 573
        }
      },
      "source": [
        "# Experimento 2\n",
        "def EXP2(filename, dataname, iter_, apr):\n",
        "    k_fols = []\n",
        "    for i in range(3):\n",
        "        X = Leer_Datos(filename +'/fold_'+str(i)+'.csv')\n",
        "        k_fols.append(X)\n",
        "\n",
        "    cl = ['b:','r:','y:']\n",
        "    cost_ht = []\n",
        "    for k in range(3):\n",
        "        data_train = np.concatenate((k_fols[(k+1)%3], k_fols[(k+2)%3]))\n",
        "        data_test = k_fols[k]\n",
        "        train_x, train_y = Separar_X_y(data_train)\n",
        "        test_x, test_y = Separar_X_y(data_test)\n",
        "        Theta = np.zeros((train_x.shape[1],1),float)\n",
        "        theta_GD , cost_h = gradiente_descendiente(train_x,train_y, apr, Theta, iter_)\n",
        "        cost_ht.append(cost_h)\n",
        "        \n",
        "    plt.plot(np.arange(cost_ht[0].shape[0]),cost_ht[0], cl[0], label='fold1.2')\n",
        "    plt.plot(np.arange(cost_ht[1].shape[0]),cost_ht[1], cl[1], label='fold2.0')\n",
        "    plt.plot(np.arange(cost_ht[2].shape[0]),cost_ht[2], cl[2], label='fold0.1')\n",
        "    plt.title(dataname)\n",
        "    plt.xlabel('Iteraciones')\n",
        "    plt.ylabel('Costo')\n",
        "    plt.legend()\n",
        "    plt.show()\n",
        "\n",
        "EXP2('/content/drive/My Drive/ConjuntosRLog/Enfermedad_Cardiaca_Data','Enfermedad Cardiaca', 500, 0.1)\n",
        "EXP2('/content/drive/My Drive/ConjuntosRLog/Diabetes_Data', 'Diabetes', 1000, 0.01)"
      ],
      "execution_count": 7,
      "outputs": [
        {
          "output_type": "display_data",
          "data": {
            "image/png": "[encoded data removed]",
            "text/plain": [
              "<Figure size 432x288 with 1 Axes>"
            ]
          },
          "metadata": {
            "tags": [],
            "needs_background": "light"
          }
        },
        {
          "output_type": "display_data",
          "data": {
            "image/png": "[encoded data removed]",
            "text/plain": [
              "<Figure size 432x288 with 1 Axes>"
            ]
          },
          "metadata": {
            "tags": [],
            "needs_background": "light"
          }
        }
      ]
    }
  ]
}