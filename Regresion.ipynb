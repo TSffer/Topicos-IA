{
  "nbformat": 4,
  "nbformat_minor": 0,
  "metadata": {
    "colab": {
      "name": "Regresion.ipynb",
      "provenance": [],
      "collapsed_sections": [],
      "mount_file_id": "1KjEexc_Cakjde7FYL5kXjmYcsl67MF9y",
      "authorship_tag": "ABX9TyM6xwDgRvs6HV0CzF43PJZz",
      "include_colab_link": true
    },
    "kernelspec": {
      "name": "python3",
      "display_name": "Python 3"
    }
  },
  "cells": [
    {
      "cell_type": "markdown",
      "metadata": {
        "id": "view-in-github",
        "colab_type": "text"
      },
      "source": [
        "<a href=\"https://colab.research.google.com/github/TSffer/Topicos-IA/blob/master/Regresion.ipynb\" target=\"_parent\"><img src=\"https://colab.research.google.com/assets/colab-badge.svg\" alt=\"Open In Colab\"/></a>"
      ]
    },
    {
      "cell_type": "code",
      "metadata": {
        "id": "8hEp_f3AUKvY",
        "colab_type": "code",
        "colab": {}
      },
      "source": [
        "from sklearn.model_selection import train_test_split\n",
        "import pandas as pd\n",
        "import numpy as np\n",
        "import matplotlib.pyplot as plt"
      ],
      "execution_count": 0,
      "outputs": []
    },
    {
      "cell_type": "code",
      "metadata": {
        "id": "JEqW_atSt16s",
        "colab_type": "code",
        "colab": {}
      },
      "source": [
        "def Leer_Datos(filename): \n",
        "    data = pd.read_csv(filename, sep=',', header=None).to_numpy()\n",
        "    return data\n",
        "\n",
        "def Normalizar_Datos(data):\n",
        "    meam_data = data.mean(axis=0)\n",
        "    std_data = data.std(axis=0)\n",
        "\n",
        "    normalization_t = data - meam_data\n",
        "    normalization_t = normalization_t / std_data\n",
        "    return normalization_t\n",
        "\n",
        "def Crear_Entrenamiento_Prueba():\n",
        "    dataset = pd.read_csv('/content/drive/My Drive/RegresionLineal/petrol_consumption.csv', sep='\\t').to_numpy()\n",
        "    dataset = Normalizar_Datos(dataset)\n",
        "    dataset = np.insert(dataset,0,values=1.0,axis=1)\n",
        "    #print(dataset)\n",
        "    sourcevars = dataset[:,:-1] \n",
        "    targetvar = dataset[:,len(dataset[0])-1] \n",
        "\n",
        "    x_train, x_test, y_train, y_test = train_test_split(sourcevars, targetvar, test_size=0.3, random_state=0)\n",
        "    \n",
        "    np.savetxt('/content/drive/My Drive/RegresionLineal/Dataset_Petrol/x_train.csv', x_train, delimiter=',')\n",
        "    np.savetxt('/content/drive/My Drive/RegresionLineal/Dataset_Petrol/y_train.csv', y_train, delimiter=',')\n",
        "    np.savetxt('/content/drive/My Drive/RegresionLineal/Dataset_Petrol/x_test.csv', x_test, delimiter=',')\n",
        "    np.savetxt('/content/drive/My Drive/RegresionLineal/Dataset_Petrol/y_test.csv', y_test, delimiter=',')\n",
        "\n",
        "#Crear_Entrenamiento_Prueba()"
      ],
      "execution_count": 0,
      "outputs": []
    },
    {
      "cell_type": "code",
      "metadata": {
        "id": "2oxZwM7F7IFY",
        "colab_type": "code",
        "colab": {}
      },
      "source": [
        "# Regresion usando la formula\n",
        "def Ecuacion_Normal(x_, y_):\n",
        "    th1 = np.linalg.inv(np.dot(x_.T,x_))\n",
        "    th2 = np.dot(x_.T,y_)\n",
        "    theta = np.dot(th1, th2)\n",
        "    return theta"
      ],
      "execution_count": 0,
      "outputs": []
    },
    {
      "cell_type": "code",
      "metadata": {
        "id": "--k7F5s4GeoA",
        "colab_type": "code",
        "colab": {}
      },
      "source": [
        "# Regresion usando gradiente descendiente\n",
        "def f_costo(theta_, x, y):\n",
        "    m_ = x.shape[0]\n",
        "    h_t = np.dot(x,theta_)\n",
        "    cost = (1/(2*m_)) * np.square(h_t - y).sum(axis=0)\n",
        "    return cost\n"
      ],
      "execution_count": 0,
      "outputs": []
    },
    {
      "cell_type": "code",
      "metadata": {
        "id": "VCpvM6REpEaF",
        "colab_type": "code",
        "colab": {}
      },
      "source": [
        "def gradiente_descendiente(x, y, alpha, theta_, it):\n",
        "    cost_h = np.zeros(it)\n",
        "    m = x.shape[0]\n",
        "    for i in range(it):\n",
        "        h_theta = np.dot(x,theta_)\n",
        "        theta_ = theta_ - alpha/m*(np.dot(x.T,(h_theta - y)))\n",
        "        cost_h[i] = f_costo(theta_, x, y)\n",
        "    return theta_, cost_h"
      ],
      "execution_count": 0,
      "outputs": []
    },
    {
      "cell_type": "code",
      "metadata": {
        "id": "6YF9R6Pn9rtS",
        "colab_type": "code",
        "outputId": "9b291755-cff2-43f2-c0e8-479ec961847b",
        "colab": {
          "base_uri": "https://localhost:8080/",
          "height": 54
        }
      },
      "source": [
        "# main\n",
        "\n",
        "#Theta = np.matrix('0 ; 0')\n",
        "\"\"\"Theta = np.zeros((2,1),float)\n",
        "X = Leer_Datos(\"/content/drive/My Drive/RegresionLineal/Dataset/x_trainHome.csv\")\n",
        "Y = Leer_Datos(\"/content/drive/My Drive/RegresionLineal/Dataset/y_trainHome.csv\")\n",
        "\n",
        "theta_EN = Ecuacion_Normal(X, Y)\n",
        "print(theta_EN)\n",
        "theta_GD, cost_h, theta_h = gradiente_descendiente(X, Y, 0.01, Theta, 500)\n",
        "print(theta_GD)\n",
        "#print(cost_h)\"\"\"\n"
      ],
      "execution_count": 44,
      "outputs": [
        {
          "output_type": "execute_result",
          "data": {
            "text/plain": [
              "'Theta = np.zeros((2,1),float)\\nX = Leer_Datos(\"/content/drive/My Drive/RegresionLineal/Dataset/x_trainHome.csv\")\\nY = Leer_Datos(\"/content/drive/My Drive/RegresionLineal/Dataset/y_trainHome.csv\")\\n\\ntheta_EN = Ecuacion_Normal(X, Y)\\nprint(theta_EN)\\ntheta_GD, cost_h, theta_h = gradiente_descendiente(X, Y, 0.01, Theta, 500)\\nprint(theta_GD)\\n#print(cost_h)'"
            ]
          },
          "metadata": {
            "tags": []
          },
          "execution_count": 44
        }
      ]
    },
    {
      "cell_type": "code",
      "metadata": {
        "id": "SHtdRHeJChxU",
        "colab_type": "code",
        "outputId": "c47ba843-2ace-4e12-994e-c0a8dbf77ff3",
        "colab": {
          "base_uri": "https://localhost:8080/",
          "height": 323
        }
      },
      "source": [
        "#Experimento 1\n",
        "\n",
        "def EXP1(filename):\n",
        "    x_train = Leer_Datos(filename + \"/x_train.csv\")\n",
        "    y_train = Leer_Datos(filename + \"/y_train.csv\")\n",
        "    x_test = Leer_Datos(filename + \"/x_test.csv\")\n",
        "    y_test = Leer_Datos(filename + \"/y_test.csv\")\n",
        "\n",
        "    theta_ = Ecuacion_Normal(x_train, y_train)\n",
        "\n",
        "    print(\"Conjunto de Entrenamiento: \" + filename)\n",
        "    print(f_costo(theta_, x_train, y_train))\n",
        "    print(\"Conjunto de Prueba: \" +  filename)\n",
        "    print(f_costo(theta_, x_test, y_test))\n",
        "    print('\\n')\n",
        "\n",
        "EXP1(\"/content/drive/My Drive/RegresionLineal/Dataset_Home\")\n",
        "EXP1(\"/content/drive/My Drive/RegresionLineal/Dataset_Ocean\")\n",
        "EXP1(\"/content/drive/My Drive/RegresionLineal/Dataset_Petrol\")"
      ],
      "execution_count": 45,
      "outputs": [
        {
          "output_type": "stream",
          "text": [
            "Conjunto de Entrenamiento: /content/drive/My Drive/RegresionLineal/Dataset_Home\n",
            "[0.11730855]\n",
            "Conjunto de Prueba: /content/drive/My Drive/RegresionLineal/Dataset_Home\n",
            "[0.17311598]\n",
            "\n",
            "\n",
            "Conjunto de Entrenamiento: /content/drive/My Drive/RegresionLineal/Dataset_Ocean\n",
            "[0.0801871]\n",
            "Conjunto de Prueba: /content/drive/My Drive/RegresionLineal/Dataset_Ocean\n",
            "[0.0691331]\n",
            "\n",
            "\n",
            "Conjunto de Entrenamiento: /content/drive/My Drive/RegresionLineal/Dataset_Petrol\n",
            "[0.17248454]\n",
            "Conjunto de Prueba: /content/drive/My Drive/RegresionLineal/Dataset_Petrol\n",
            "[0.14983344]\n",
            "\n",
            "\n"
          ],
          "name": "stdout"
        }
      ]
    },
    {
      "cell_type": "code",
      "metadata": {
        "id": "5hwAlq5TRpes",
        "colab_type": "code",
        "outputId": "abc52924-6307-473f-d8c3-dcce41687c1f",
        "colab": {
          "base_uri": "https://localhost:8080/",
          "height": 578
        }
      },
      "source": [
        "#Experimento 2\n",
        "\n",
        "def EXP2(filename, ds):\n",
        "    x_train = Leer_Datos(filename + \"/x_train.csv\")\n",
        "    y_train = Leer_Datos(filename + \"/y_train.csv\")\n",
        "    x_test = Leer_Datos(filename + \"/x_test.csv\")\n",
        "    y_test = Leer_Datos(filename + \"/y_test.csv\")\n",
        "\n",
        "    Theta = np.zeros((x_train.shape[1],1),float)\n",
        "    theta_GD = np.zeros((x_train.shape[1],1),float)\n",
        "    apr = np.array([0.01, 0.05, 0.1, 0.2, 0.3, 0.4])\n",
        "    Error = np.zeros((7,6),float)\n",
        "    s = 0\n",
        "\n",
        "    for it in range(500,4000,500):\n",
        "        for i in range(len(apr)):\n",
        "            theta_GD, cost = gradiente_descendiente(x_train, y_train, apr[i], Theta, it)\n",
        "            #print(apr[i],it)\n",
        "            Error[s,i] = f_costo(theta_GD, x_test, y_test)\n",
        "        s = s + 1\n",
        "    print(\"Conjunto de Datos: \" + ds)\n",
        "    fils = [\"iter: 500\", \"iter: 1000\", \"iter: 1500\", \"iter: 2000\", \"iter: 2500\", \"iter: 3000\", \"iter: 3500\"]\n",
        "    cols = [\"α: 0.01\", \"α: 0.05\", \"α: 0.1\", \"α: 0.2\", \"α: 0.3\", \"α: 0.4\"]\n",
        "    df = pd.DataFrame(Error, columns=cols, index=fils)\n",
        "\n",
        "    print(df)\n",
        "    print('\\n')\n",
        "\n",
        "theta_GDH = EXP2(\"/content/drive/My Drive/RegresionLineal/Dataset_Home\", \"Precio Viviendas\")\n",
        "theta_GDO = EXP2(\"/content/drive/My Drive/RegresionLineal/Dataset_Ocean\", \"Temperatura Océano\")\n",
        "theta_GDP = EXP2(\"/content/drive/My Drive/RegresionLineal/Dataset_Petrol\", \"Consumo de Petróleo\")"
      ],
      "execution_count": 46,
      "outputs": [
        {
          "output_type": "stream",
          "text": [
            "Conjunto de Datos: Precio Viviendas\n",
            "             α: 0.01   α: 0.05    α: 0.1    α: 0.2    α: 0.3    α: 0.4\n",
            "iter: 500   0.173466  0.173116  0.173116  0.173116  0.173116  0.173116\n",
            "iter: 1000  0.173118  0.173116  0.173116  0.173116  0.173116  0.173116\n",
            "iter: 1500  0.173116  0.173116  0.173116  0.173116  0.173116  0.173116\n",
            "iter: 2000  0.173116  0.173116  0.173116  0.173116  0.173116  0.173116\n",
            "iter: 2500  0.173116  0.173116  0.173116  0.173116  0.173116  0.173116\n",
            "iter: 3000  0.173116  0.173116  0.173116  0.173116  0.173116  0.173116\n",
            "iter: 3500  0.173116  0.173116  0.173116  0.173116  0.173116  0.173116\n",
            "\n",
            "\n",
            "Conjunto de Datos: Temperatura Océano\n",
            "             α: 0.01   α: 0.05    α: 0.1    α: 0.2    α: 0.3    α: 0.4\n",
            "iter: 500   0.069683  0.069133  0.069133  0.069133  0.069133  0.069133\n",
            "iter: 1000  0.069137  0.069133  0.069133  0.069133  0.069133  0.069133\n",
            "iter: 1500  0.069133  0.069133  0.069133  0.069133  0.069133  0.069133\n",
            "iter: 2000  0.069133  0.069133  0.069133  0.069133  0.069133  0.069133\n",
            "iter: 2500  0.069133  0.069133  0.069133  0.069133  0.069133  0.069133\n",
            "iter: 3000  0.069133  0.069133  0.069133  0.069133  0.069133  0.069133\n",
            "iter: 3500  0.069133  0.069133  0.069133  0.069133  0.069133  0.069133\n",
            "\n",
            "\n",
            "Conjunto de Datos: Consumo de Petróleo\n",
            "             α: 0.01   α: 0.05    α: 0.1    α: 0.2    α: 0.3    α: 0.4\n",
            "iter: 500   0.147288  0.149833  0.149833  0.149833  0.149833  0.149833\n",
            "iter: 1000  0.149575  0.149833  0.149833  0.149833  0.149833  0.149833\n",
            "iter: 1500  0.149799  0.149833  0.149833  0.149833  0.149833  0.149833\n",
            "iter: 2000  0.149829  0.149833  0.149833  0.149833  0.149833  0.149833\n",
            "iter: 2500  0.149833  0.149833  0.149833  0.149833  0.149833  0.149833\n",
            "iter: 3000  0.149833  0.149833  0.149833  0.149833  0.149833  0.149833\n",
            "iter: 3500  0.149833  0.149833  0.149833  0.149833  0.149833  0.149833\n",
            "\n",
            "\n"
          ],
          "name": "stdout"
        }
      ]
    },
    {
      "cell_type": "code",
      "metadata": {
        "id": "0zOCZEFZNSor",
        "colab_type": "code",
        "outputId": "945307fc-f3a5-4f03-ff36-14672216ffd6",
        "colab": {
          "base_uri": "https://localhost:8080/",
          "height": 295
        }
      },
      "source": [
        "#Experimento 3\n",
        "def EXP3(filename):\n",
        "    x_train = Leer_Datos(filename + \"/x_train.csv\")\n",
        "    y_train = Leer_Datos(filename + \"/y_train.csv\")\n",
        "    x_test = Leer_Datos(filename + \"/x_test.csv\")\n",
        "    y_test = Leer_Datos(filename + \"/y_test.csv\")\n",
        "\n",
        "    Theta = np.zeros((x_train.shape[1],1),float)\n",
        "\n",
        "    theta_EN = Ecuacion_Normal(x_train, y_train)\n",
        "    theta_GD, cost = gradiente_descendiente(x_train, y_train, 0.4, Theta, 500)\n",
        "\n",
        "    y_p_ec = np.dot(x_train, theta_EN)\n",
        "    y_p_gd = np.dot(x_train, theta_GD)\n",
        "\n",
        "    plt.plot(x_train[:,1],y_train[:,0],'r.')\n",
        "    plt.plot(x_train[:,1],y_p_ec[:,0], 'b',label='Ecuación Normal')\n",
        "    plt.plot(x_train[:,1],y_p_gd[:,0], ':y',label='Gradiente Descendiente')\n",
        "    plt.title('Precio Viviendas')\n",
        "    plt.xlabel('Size')\n",
        "    plt.ylabel('Price')\n",
        "    plt.legend()\n",
        "    plt.show()\n",
        "\n",
        "EXP3(\"/content/drive/My Drive/RegresionLineal/Dataset_Home\")"
      ],
      "execution_count": 47,
      "outputs": [
        {
          "output_type": "display_data",
          "data": {
            "image/png": "[encoded data removed]",
            "text/plain": [
              "<Figure size 432x288 with 1 Axes>"
            ]
          },
          "metadata": {
            "tags": [],
            "needs_background": "light"
          }
        }
      ]
    },
    {
      "cell_type": "code",
      "metadata": {
        "id": "22yDZ4wvMlBa",
        "colab_type": "code",
        "outputId": "a7c687d3-d0a9-484c-91d8-deac70885258",
        "colab": {
          "base_uri": "https://localhost:8080/",
          "height": 851
        }
      },
      "source": [
        "#Experimento 4\n",
        "def EXP4(filename, bs):\n",
        "    x_train = Leer_Datos(filename + \"/x_train.csv\")\n",
        "    y_train = Leer_Datos(filename + \"/y_train.csv\")\n",
        "    x_test = Leer_Datos(filename + \"/x_test.csv\")\n",
        "    y_test = Leer_Datos(filename + \"/y_test.csv\")\n",
        "\n",
        "    Theta = np.zeros((x_train.shape[1],1),float)\n",
        "    theta_GD1, cost_tr = gradiente_descendiente(x_train, y_train, 0.4, Theta, 500)\n",
        "    theta_GD2, cost_te = gradiente_descendiente(x_test, y_test, 0.4, Theta, 500)\n",
        "\n",
        "    \n",
        "\n",
        "    plt.plot(np.arange(cost_tr.shape[0]),cost_tr,'r.', label='train')\n",
        "    plt.plot(np.arange(cost_te.shape[0]),cost_te,'b.', label='test')\n",
        "    plt.title(bs)\n",
        "    plt.xlabel('Iteraciones')\n",
        "    plt.ylabel('Costo')\n",
        "    plt.legend()\n",
        "    plt.show()\n",
        "    \n",
        "\n",
        "EXP4(\"/content/drive/My Drive/RegresionLineal/Dataset_Home\", \"Precio Vivienda\")\n",
        "EXP4(\"/content/drive/My Drive/RegresionLineal/Dataset_Ocean\", \"Temperatura Océano\")\n",
        "EXP4(\"/content/drive/My Drive/RegresionLineal/Dataset_Petrol\", \"Consumo de Petróleo\")"
      ],
      "execution_count": 48,
      "outputs": [
        {
          "output_type": "display_data",
          "data": {
            "image/png": "[encoded data removed]",
            "text/plain": [
              "<Figure size 432x288 with 1 Axes>"
            ]
          },
          "metadata": {
            "tags": [],
            "needs_background": "light"
          }
        },
        {
          "output_type": "display_data",
          "data": {
            "image/png": "[encoded data removed]",
            "text/plain": [
              "<Figure size 432x288 with 1 Axes>"
            ]
          },
          "metadata": {
            "tags": [],
            "needs_background": "light"
          }
        },
        {
          "output_type": "display_data",
          "data": {
            "image/png": "[encoded data removed]",
            "text/plain": [
              "<Figure size 432x288 with 1 Axes>"
            ]
          },
          "metadata": {
            "tags": [],
            "needs_background": "light"
          }
        }
      ]
    }
  ]
}